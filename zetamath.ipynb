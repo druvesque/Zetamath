{
 "cells": [
  {
   "cell_type": "code",
   "execution_count": 1,
   "id": "27b07acc-fc80-448c-8f28-c3c8db53a304",
   "metadata": {},
   "outputs": [],
   "source": [
    "#Length of Vector\n",
    "from math import sqrt\n",
    "def length_of_vector(vector):\n",
    "    size = len(vector)\n",
    "    length = 0\n",
    "    for i in range(size):\n",
    "        length = length + (vector[i] ** 2)\n",
    "    length = sqrt(length)\n",
    "    return length"
   ]
  },
  {
   "cell_type": "code",
   "execution_count": 4,
   "id": "be4167de-5312-48cc-8e74-ad54c9df6fd1",
   "metadata": {},
   "outputs": [],
   "source": [
    "#Dot product of 2 vectors\n",
    "def dot_product_of_vectors(vector1, vector2): #for dot product, the length of both the vectors\n",
    "    size = len(vector1)\n",
    "    dot_product = 0\n",
    "    for i in range(size):\n",
    "        dot_product += vector1[i] * vector2[i]\n",
    "    return dot_product"
   ]
  },
  {
   "cell_type": "code",
   "execution_count": 3,
   "id": "68bdd4b6-4be5-4f8d-bacc-fc41f240def2",
   "metadata": {},
   "outputs": [],
   "source": [
    "#Multiplication of a scalar with a matrix\n",
    "def matrix_scalar_multiplication(matrix, scalar):\n",
    "    rows = len(matrix)\n",
    "    cols = len(matrix[0])\n",
    "    result = []\n",
    "    for i in range(rows):\n",
    "        result.append([])\n",
    "        for j in range(cols):\n",
    "            result[i].append(matrix[i][j] * scalar)\n",
    "    return result"
   ]
  },
  {
   "cell_type": "code",
   "execution_count": 4,
   "id": "758c624b-2c9f-4fc6-a911-a3bb164da22f",
   "metadata": {},
   "outputs": [],
   "source": [
    "#Addition of matrix\n",
    "def matrix_addition(matrix1, matrix2): #for 2 matrices to be added together, their order should be the same\n",
    "    rows = len(matrix1)\n",
    "    cols = len(matrix1[0])\n",
    "    sum = []\n",
    "    for i in range(rows):\n",
    "        sum.append([])\n",
    "        for j in range(cols):\n",
    "            sum[i].append(matrix1[i][j] + matrix2[i][j])\n",
    "    return sum"
   ]
  },
  {
   "cell_type": "code",
   "execution_count": 5,
   "id": "763d3854-65b3-404f-ba21-04031e593c80",
   "metadata": {},
   "outputs": [],
   "source": [
    "#Subtraction of matrix\n",
    "def matrix_subtraction(matrix1, matrix2): #for 2 matrices to be subtracted together, their order should be the same\n",
    "    rows = len(matrix1)\n",
    "    cols = len(matrix1[0])\n",
    "    diff = []\n",
    "    for i in range(rows):\n",
    "        diff.append([])\n",
    "        for j in range(cols):\n",
    "            diff[i].append(matrix1[i][j] + matrix2[i][j])\n",
    "    return diff"
   ]
  },
  {
   "cell_type": "code",
   "execution_count": 12,
   "id": "e89d8850-b84d-4d73-a561-63783ac1fb8b",
   "metadata": {},
   "outputs": [],
   "source": [
    "#Transpose of a matrix\n",
    "def transpose_matrix(matrix):  #perform a dry-run for this\n",
    "    rows = len(matrix)\n",
    "    cols = len(matrix[0])\n",
    "    result = []\n",
    "    for i in range(cols):\n",
    "        result.append([])\n",
    "        for j in range(rows):\n",
    "            result[i].append(matrix[j][i])\n",
    "    return result"
   ]
  },
  {
   "cell_type": "code",
   "execution_count": 13,
   "id": "a86d98d5-fc8e-4153-93ec-9c144d91cf4f",
   "metadata": {},
   "outputs": [],
   "source": [
    "#Matrix Multiplication\n",
    "def matrix_multiplication(matrix1, matrix2):\n",
    "    result = []\n",
    "    matrix2_transpose = transpose_matrix(matrix2)\n",
    "    m = 0 #index pointer\n",
    "    for i in matrix1:\n",
    "        result.append([])\n",
    "        for j in matrix2_transpose:\n",
    "            result[m].append(dot_product_of_vectors(i,j))\n",
    "        m += 1\n",
    "    return result"
   ]
  },
  {
   "cell_type": "code",
   "execution_count": 14,
   "id": "090b6644-2585-436e-a7b3-4b4988b7761b",
   "metadata": {},
   "outputs": [],
   "source": [
    "#Tensor product of 2 vectors\n",
    "def tensor_product_vectors(vector1, vector2):\n",
    "    l1 = len(vector1)\n",
    "    l2 = len(vector2)\n",
    "    result = []\n",
    "    for i in range(l1):\n",
    "        for j in range(l2):\n",
    "            result.append(vector1[i]*vector2[j])\n",
    "    return result"
   ]
  },
  {
   "cell_type": "code",
   "execution_count": 1,
   "id": "c1fdf202-43de-4186-8f73-c94829b0afd8",
   "metadata": {},
   "outputs": [],
   "source": [
    "#Tensor product of 2 matrices\n",
    "def tensor_product_matrices(matrix1, matrix2):\n",
    "    r1 = len(matrix1)\n",
    "    c1 = len(matrix1[0])\n",
    "    r2 = len(matrix2)\n",
    "    c2 = len(matrix2[0])\n",
    "    \n",
    "    r = r1*r2 #rows in tensor product\n",
    "    c = c1*c2 #columns in tensor product\n",
    "    result = []\n",
    "    for i in range(r):\n",
    "        result.append([])\n",
    "        for j in range(c):\n",
    "            result[i].append(0) #zero matrix with order of tensor product\n",
    "            \n",
    "    for i in range(r1):\n",
    "        for j in range(c1):\n",
    "            a = matrix1[i][j]\n",
    "            for m in range(r2):\n",
    "                for n in range(c2):\n",
    "                    b = matrix2[m][n]\n",
    "                    result[r2*i + m][c2*j + n] = a*b\n",
    "    return result"
   ]
  },
  {
   "cell_type": "code",
   "execution_count": 6,
   "id": "1b0f4229-7734-4779-9214-015c0a0020f9",
   "metadata": {},
   "outputs": [],
   "source": [
    "def matrix_vector_multiplication(matrix, vector):\n",
    "    rows = len(matrix)\n",
    "    cols = len(matrix[0])\n",
    "    result = []\n",
    "    for i in matrix:\n",
    "        result.append(dot_product_of_vectors(i,vector))\n",
    "    return result"
   ]
  }
 ],
 "metadata": {
  "kernelspec": {
   "display_name": "Python 3 (ipykernel)",
   "language": "python",
   "name": "python3"
  },
  "language_info": {
   "codemirror_mode": {
    "name": "ipython",
    "version": 3
   },
   "file_extension": ".py",
   "mimetype": "text/x-python",
   "name": "python",
   "nbconvert_exporter": "python",
   "pygments_lexer": "ipython3",
   "version": "3.11.7"
  }
 },
 "nbformat": 4,
 "nbformat_minor": 5
}
